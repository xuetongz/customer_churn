{
 "cells": [
  {
   "cell_type": "code",
   "execution_count": 2,
   "metadata": {},
   "outputs": [],
   "source": [
    "import pandas as pd\n",
    "import hashlib\n",
    "import os\n",
    "# displat all output\n",
    "from IPython.core.interactiveshell import InteractiveShell\n",
    "InteractiveShell.ast_node_interactivity = \"all\""
   ]
  },
  {
   "cell_type": "code",
   "execution_count": 3,
   "metadata": {},
   "outputs": [],
   "source": [
    "N_PARTITIONS = 100"
   ]
  },
  {
   "cell_type": "code",
   "execution_count": null,
   "metadata": {},
   "outputs": [],
   "source": [
    "members=pd.read_csv('/Users/xuetong/Downloads/members_v3.csv',nrow=100)\n",
    "transactions=pd.read_csv('/Users/xuetong/Downloads/transactions_v2.csv',nrow=100)"
   ]
  },
  {
   "cell_type": "code",
   "execution_count": 4,
   "metadata": {},
   "outputs": [
    {
     "data": {
      "text/plain": [
       "'msno,city,bd,gender,registered_via,registration_init_time\\n'"
      ]
     },
     "execution_count": 4,
     "metadata": {},
     "output_type": "execute_result"
    },
    {
     "data": {
      "text/plain": [
       "'msno,payment_method_id,payment_plan_days,plan_list_price,actual_amount_paid,is_auto_renew,transaction_date,membership_expire_date,is_cancel\\n'"
      ]
     },
     "execution_count": 4,
     "metadata": {},
     "output_type": "execute_result"
    },
    {
     "data": {
      "text/plain": [
       "'msno,is_churn\\n'"
      ]
     },
     "execution_count": 4,
     "metadata": {},
     "output_type": "execute_result"
    },
    {
     "data": {
      "text/plain": [
       "'msno,date,num_25,num_50,num_75,num_985,num_100,num_unq,total_secs\\n'"
      ]
     },
     "execution_count": 4,
     "metadata": {},
     "output_type": "execute_result"
    }
   ],
   "source": [
    "def get_header(filename):\n",
    "    with open(filename, 'r') as member:\n",
    "        return next(member)\n",
    "members_header = get_header('/Users/xuetong/Downloads/members_v3.csv')\n",
    "members_header\n",
    "transactions_header = get_header('/Users/xuetong/Downloads/transactions_v2.csv')\n",
    "transactions_header\n",
    "train_header= get_header('/Users/xuetong/Downloads/train_v2.csv')\n",
    "train_header\n",
    "log_header = get_header('/Users/xuetong/Downloads/user_logs_v2.csv')\n",
    "log_header\n",
    "file_headers={'members.csv':members_header,\n",
    "   'transactions.csv':transactions_header,\n",
    "   'train.csv':train_header,\n",
    "    'logs.csv':log_header}"
   ]
  },
  {
   "cell_type": "code",
   "execution_count": 13,
   "metadata": {},
   "outputs": [
    {
     "data": {
      "text/plain": [
       "100"
      ]
     },
     "execution_count": 13,
     "metadata": {},
     "output_type": "execute_result"
    }
   ],
   "source": [
    "base_dir = '/Users/xuetong/customer_churn/data_partition/'\n",
    "\n",
    "if not os.path.exists(base_dir + 'p99'):\n",
    "    # Create a new directory for each partition\n",
    "    for i in range(N_PARTITIONS):\n",
    "        os.makedirs(base_dir + f'p{i}', exist_ok=False)\n",
    "    \n",
    "len(os.listdir(base_dir))"
   ]
  },
  {
   "cell_type": "code",
   "execution_count": 6,
   "metadata": {},
   "outputs": [],
   "source": [
    "base_dir = '/Users/xuetong/customer_churn/data_partition/'\n",
    "def create_blank_partitions():\n",
    "    \"\"\"Create blank files in each partition and write the file header\"\"\"\n",
    "    # For each partition create the files with headers\n",
    "    for i in range(N_PARTITIONS):\n",
    "        directory = base_dir + f'p{i}/'\n",
    "        # Create five files\n",
    "        for file in ['transactions.csv', 'train.csv', 'members.csv', 'logs.csv']:\n",
    "            # Write file header as first line\n",
    "            with open(directory + file, 'w') as f:\n",
    "                f.write(file_headers[file])\n",
    "create_blank_partitions()"
   ]
  },
  {
   "cell_type": "code",
   "execution_count": 7,
   "metadata": {},
   "outputs": [],
   "source": [
    "def id_to_hash(customer_id):\n",
    "    \"\"\"\n",
    "    Hash customer_id to 16_bit integer\n",
    "    Params:\n",
    "    --------\n",
    "    customer_id (str): unique id of each customer\n",
    "    \n",
    "    Returns:\n",
    "    --------\n",
    "    a 16-bit integer hash of a customer id string\n",
    "    \"\"\"\n",
    "    return int(hashlib.md5(customer_id.encode('utf-8')).hexdigest(), 16)"
   ]
  },
  {
   "cell_type": "code",
   "execution_count": 8,
   "metadata": {},
   "outputs": [],
   "source": [
    "def partition_by_hashing(df, name):\n",
    "    \"\"\"Partition a dataframe into N_PARTITIONS by hashing the id.\n",
    "    \n",
    "    Params\n",
    "    --------\n",
    "        df (pandas dataframe): dataframe for partition. Must have 'msno' column.\n",
    "        name (str): name of dataframe. Used for saving the row data.\n",
    "                                  \n",
    "    Returns:\n",
    "    --------\n",
    "        Nothing returned. Dataframe is saved one line at a time as csv files to the N_PARTITIONS \n",
    "    \"\"\"\n",
    "    df['partition'] = df['msno'].apply(id_to_hash) % N_PARTITIONS\n",
    "    \n",
    "    for partition, grouped in df.groupby('partition'):\n",
    "        grouped = grouped.drop(columns = 'partition')\n",
    "        with open(base_dir + f'p{partition}/{name}.csv', 'a') as f:\n",
    "            f.write('\\n')\n",
    "            grouped.to_csv(f, header = False, index = False)\n",
    "    "
   ]
  },
  {
   "cell_type": "code",
   "execution_count": 21,
   "metadata": {},
   "outputs": [],
   "source": [
    "members=pd.read_csv('/Users/xuetong/Downloads/members_v3.csv')\n",
    "partition_by_hashing(members, name='members')"
   ]
  },
  {
   "cell_type": "code",
   "execution_count": 23,
   "metadata": {},
   "outputs": [
    {
     "data": {
      "text/html": [
       "<div>\n",
       "<style scoped>\n",
       "    .dataframe tbody tr th:only-of-type {\n",
       "        vertical-align: middle;\n",
       "    }\n",
       "\n",
       "    .dataframe tbody tr th {\n",
       "        vertical-align: top;\n",
       "    }\n",
       "\n",
       "    .dataframe thead th {\n",
       "        text-align: right;\n",
       "    }\n",
       "</style>\n",
       "<table border=\"1\" class=\"dataframe\">\n",
       "  <thead>\n",
       "    <tr style=\"text-align: right;\">\n",
       "      <th></th>\n",
       "      <th>msno</th>\n",
       "      <th>city</th>\n",
       "      <th>bd</th>\n",
       "      <th>gender</th>\n",
       "      <th>registered_via</th>\n",
       "      <th>registration_init_time</th>\n",
       "    </tr>\n",
       "  </thead>\n",
       "  <tbody>\n",
       "    <tr>\n",
       "      <th>0</th>\n",
       "      <td>+zs+1G87PFI6/GGDHRZirqUwuqWwxHfbYXCDp6JASIA=</td>\n",
       "      <td>5</td>\n",
       "      <td>20</td>\n",
       "      <td>male</td>\n",
       "      <td>3</td>\n",
       "      <td>20141021</td>\n",
       "    </tr>\n",
       "    <tr>\n",
       "      <th>1</th>\n",
       "      <td>rfRIfohiDPl+45b/U18yoSh4BxyzUgfzIN37HJx6uwA=</td>\n",
       "      <td>15</td>\n",
       "      <td>33</td>\n",
       "      <td>female</td>\n",
       "      <td>3</td>\n",
       "      <td>20141026</td>\n",
       "    </tr>\n",
       "    <tr>\n",
       "      <th>2</th>\n",
       "      <td>XOtdjEYPuLTlLrVtm+SuVU6G4RyBsuvoag1SETzPYBE=</td>\n",
       "      <td>22</td>\n",
       "      <td>22</td>\n",
       "      <td>male</td>\n",
       "      <td>3</td>\n",
       "      <td>20141105</td>\n",
       "    </tr>\n",
       "    <tr>\n",
       "      <th>3</th>\n",
       "      <td>aW4IA1Wl1hB0/4id06Fn77rLUFgzjGbmx9mUUigN/74=</td>\n",
       "      <td>1</td>\n",
       "      <td>0</td>\n",
       "      <td>NaN</td>\n",
       "      <td>11</td>\n",
       "      <td>20161224</td>\n",
       "    </tr>\n",
       "    <tr>\n",
       "      <th>4</th>\n",
       "      <td>hnQkTaqdbYdNySpKuCpHAFKo2eLC0v5h992Fs4lKozs=</td>\n",
       "      <td>1</td>\n",
       "      <td>21</td>\n",
       "      <td>female</td>\n",
       "      <td>4</td>\n",
       "      <td>20161229</td>\n",
       "    </tr>\n",
       "  </tbody>\n",
       "</table>\n",
       "</div>"
      ],
      "text/plain": [
       "                                           msno  city  bd  gender  \\\n",
       "0  +zs+1G87PFI6/GGDHRZirqUwuqWwxHfbYXCDp6JASIA=     5  20    male   \n",
       "1  rfRIfohiDPl+45b/U18yoSh4BxyzUgfzIN37HJx6uwA=    15  33  female   \n",
       "2  XOtdjEYPuLTlLrVtm+SuVU6G4RyBsuvoag1SETzPYBE=    22  22    male   \n",
       "3  aW4IA1Wl1hB0/4id06Fn77rLUFgzjGbmx9mUUigN/74=     1   0     NaN   \n",
       "4  hnQkTaqdbYdNySpKuCpHAFKo2eLC0v5h992Fs4lKozs=     1  21  female   \n",
       "\n",
       "   registered_via  registration_init_time  \n",
       "0               3                20141021  \n",
       "1               3                20141026  \n",
       "2               3                20141105  \n",
       "3              11                20161224  \n",
       "4               4                20161229  "
      ]
     },
     "execution_count": 23,
     "metadata": {},
     "output_type": "execute_result"
    }
   ],
   "source": [
    "pd.read_csv(base_dir + f'p3/members.csv').head()"
   ]
  },
  {
   "cell_type": "code",
   "execution_count": 24,
   "metadata": {},
   "outputs": [],
   "source": [
    "transactions = pd.read_csv('/Users/xuetong/Downloads/transactions_v2.csv')\n",
    "partition_by_hashing(transactions, name = 'transactions')"
   ]
  },
  {
   "cell_type": "code",
   "execution_count": 26,
   "metadata": {},
   "outputs": [
    {
     "data": {
      "text/html": [
       "<div>\n",
       "<style scoped>\n",
       "    .dataframe tbody tr th:only-of-type {\n",
       "        vertical-align: middle;\n",
       "    }\n",
       "\n",
       "    .dataframe tbody tr th {\n",
       "        vertical-align: top;\n",
       "    }\n",
       "\n",
       "    .dataframe thead th {\n",
       "        text-align: right;\n",
       "    }\n",
       "</style>\n",
       "<table border=\"1\" class=\"dataframe\">\n",
       "  <thead>\n",
       "    <tr style=\"text-align: right;\">\n",
       "      <th></th>\n",
       "      <th>msno</th>\n",
       "      <th>payment_method_id</th>\n",
       "      <th>payment_plan_days</th>\n",
       "      <th>plan_list_price</th>\n",
       "      <th>actual_amount_paid</th>\n",
       "      <th>is_auto_renew</th>\n",
       "      <th>transaction_date</th>\n",
       "      <th>membership_expire_date</th>\n",
       "      <th>is_cancel</th>\n",
       "    </tr>\n",
       "  </thead>\n",
       "  <tbody>\n",
       "    <tr>\n",
       "      <th>0</th>\n",
       "      <td>+/GXNtXWQVfKrEDqYAzcSw2xSPYMKWNj22m+5XkVQZc=</td>\n",
       "      <td>36</td>\n",
       "      <td>30</td>\n",
       "      <td>180</td>\n",
       "      <td>180</td>\n",
       "      <td>1</td>\n",
       "      <td>20170303</td>\n",
       "      <td>20170422</td>\n",
       "      <td>0</td>\n",
       "    </tr>\n",
       "    <tr>\n",
       "      <th>1</th>\n",
       "      <td>/3T/9RetFt4UGlip/yfz8W8IR1PsleTWMMqfDRniYtA=</td>\n",
       "      <td>39</td>\n",
       "      <td>30</td>\n",
       "      <td>149</td>\n",
       "      <td>149</td>\n",
       "      <td>1</td>\n",
       "      <td>20170331</td>\n",
       "      <td>20170511</td>\n",
       "      <td>0</td>\n",
       "    </tr>\n",
       "    <tr>\n",
       "      <th>2</th>\n",
       "      <td>0e0apAPtBl6gtqeMROaBHa7syvdcYA98cjjWla6yDLM=</td>\n",
       "      <td>41</td>\n",
       "      <td>30</td>\n",
       "      <td>99</td>\n",
       "      <td>99</td>\n",
       "      <td>1</td>\n",
       "      <td>20170321</td>\n",
       "      <td>20170421</td>\n",
       "      <td>0</td>\n",
       "    </tr>\n",
       "    <tr>\n",
       "      <th>3</th>\n",
       "      <td>1V+osC/XWRFOU7Ozwk73Cs37HfVFEwyC9+x4hgqfNzg=</td>\n",
       "      <td>41</td>\n",
       "      <td>30</td>\n",
       "      <td>149</td>\n",
       "      <td>149</td>\n",
       "      <td>1</td>\n",
       "      <td>20170321</td>\n",
       "      <td>20170421</td>\n",
       "      <td>0</td>\n",
       "    </tr>\n",
       "    <tr>\n",
       "      <th>4</th>\n",
       "      <td>2bP8ThbrGbvx5JN81VjxeFkqawTD53RkLH7s3MwtXyw=</td>\n",
       "      <td>32</td>\n",
       "      <td>410</td>\n",
       "      <td>1788</td>\n",
       "      <td>1788</td>\n",
       "      <td>0</td>\n",
       "      <td>20170308</td>\n",
       "      <td>20180425</td>\n",
       "      <td>0</td>\n",
       "    </tr>\n",
       "  </tbody>\n",
       "</table>\n",
       "</div>"
      ],
      "text/plain": [
       "                                           msno  payment_method_id  \\\n",
       "0  +/GXNtXWQVfKrEDqYAzcSw2xSPYMKWNj22m+5XkVQZc=                 36   \n",
       "1  /3T/9RetFt4UGlip/yfz8W8IR1PsleTWMMqfDRniYtA=                 39   \n",
       "2  0e0apAPtBl6gtqeMROaBHa7syvdcYA98cjjWla6yDLM=                 41   \n",
       "3  1V+osC/XWRFOU7Ozwk73Cs37HfVFEwyC9+x4hgqfNzg=                 41   \n",
       "4  2bP8ThbrGbvx5JN81VjxeFkqawTD53RkLH7s3MwtXyw=                 32   \n",
       "\n",
       "   payment_plan_days  plan_list_price  actual_amount_paid  is_auto_renew  \\\n",
       "0                 30              180                 180              1   \n",
       "1                 30              149                 149              1   \n",
       "2                 30               99                  99              1   \n",
       "3                 30              149                 149              1   \n",
       "4                410             1788                1788              0   \n",
       "\n",
       "   transaction_date  membership_expire_date  is_cancel  \n",
       "0          20170303                20170422          0  \n",
       "1          20170331                20170511          0  \n",
       "2          20170321                20170421          0  \n",
       "3          20170321                20170421          0  \n",
       "4          20170308                20180425          0  "
      ]
     },
     "execution_count": 26,
     "metadata": {},
     "output_type": "execute_result"
    }
   ],
   "source": [
    "pd.read_csv(base_dir + f'p3/transactions.csv').head()"
   ]
  },
  {
   "cell_type": "code",
   "execution_count": 25,
   "metadata": {},
   "outputs": [],
   "source": [
    "user_log=pd.read_csv('/Users/xuetong/Downloads/user_logs_v2.csv')\n",
    "partition_by_hashing(user_log, name = 'user_log')"
   ]
  },
  {
   "cell_type": "code",
   "execution_count": 10,
   "metadata": {},
   "outputs": [
    {
     "data": {
      "text/html": [
       "<div>\n",
       "<style scoped>\n",
       "    .dataframe tbody tr th:only-of-type {\n",
       "        vertical-align: middle;\n",
       "    }\n",
       "\n",
       "    .dataframe tbody tr th {\n",
       "        vertical-align: top;\n",
       "    }\n",
       "\n",
       "    .dataframe thead th {\n",
       "        text-align: right;\n",
       "    }\n",
       "</style>\n",
       "<table border=\"1\" class=\"dataframe\">\n",
       "  <thead>\n",
       "    <tr style=\"text-align: right;\">\n",
       "      <th></th>\n",
       "      <th>msno</th>\n",
       "      <th>is_churn</th>\n",
       "    </tr>\n",
       "  </thead>\n",
       "  <tbody>\n",
       "    <tr>\n",
       "      <th>0</th>\n",
       "      <td>ugx0CjOMzazClkFzU2xasmDZaoIqOUAZPsH1q0teWCg=</td>\n",
       "      <td>1</td>\n",
       "    </tr>\n",
       "    <tr>\n",
       "      <th>1</th>\n",
       "      <td>f/NmvEzHfhINFEYZTR05prUdr+E+3+oewvweYz9cCQE=</td>\n",
       "      <td>1</td>\n",
       "    </tr>\n",
       "    <tr>\n",
       "      <th>2</th>\n",
       "      <td>zLo9f73nGGT1p21ltZC3ChiRnAVvgibMyazbCxvWPcg=</td>\n",
       "      <td>1</td>\n",
       "    </tr>\n",
       "    <tr>\n",
       "      <th>3</th>\n",
       "      <td>8iF/+8HY8lJKFrTc7iR9ZYGCG2Ecrogbc2Vy5YhsfhQ=</td>\n",
       "      <td>1</td>\n",
       "    </tr>\n",
       "    <tr>\n",
       "      <th>4</th>\n",
       "      <td>K6fja4+jmoZ5xG6BypqX80Uw/XKpMgrEMdG2edFOxnA=</td>\n",
       "      <td>1</td>\n",
       "    </tr>\n",
       "  </tbody>\n",
       "</table>\n",
       "</div>"
      ],
      "text/plain": [
       "                                           msno  is_churn\n",
       "0  ugx0CjOMzazClkFzU2xasmDZaoIqOUAZPsH1q0teWCg=         1\n",
       "1  f/NmvEzHfhINFEYZTR05prUdr+E+3+oewvweYz9cCQE=         1\n",
       "2  zLo9f73nGGT1p21ltZC3ChiRnAVvgibMyazbCxvWPcg=         1\n",
       "3  8iF/+8HY8lJKFrTc7iR9ZYGCG2Ecrogbc2Vy5YhsfhQ=         1\n",
       "4  K6fja4+jmoZ5xG6BypqX80Uw/XKpMgrEMdG2edFOxnA=         1"
      ]
     },
     "execution_count": 10,
     "metadata": {},
     "output_type": "execute_result"
    }
   ],
   "source": [
    "train=pd.read_csv('/Users/xuetong/Downloads/train_v2.csv')\n",
    "train.head()\n",
    "partition_by_hashing(train,name='train')"
   ]
  }
 ],
 "metadata": {
  "kernelspec": {
   "display_name": "Python 3",
   "language": "python",
   "name": "python3"
  },
  "language_info": {
   "codemirror_mode": {
    "name": "ipython",
    "version": 3
   },
   "file_extension": ".py",
   "mimetype": "text/x-python",
   "name": "python",
   "nbconvert_exporter": "python",
   "pygments_lexer": "ipython3",
   "version": "3.6.8"
  },
  "toc": {
   "base_numbering": 1,
   "nav_menu": {},
   "number_sections": true,
   "sideBar": true,
   "skip_h1_title": false,
   "title_cell": "Table of Contents",
   "title_sidebar": "Contents",
   "toc_cell": false,
   "toc_position": {},
   "toc_section_display": true,
   "toc_window_display": false
  }
 },
 "nbformat": 4,
 "nbformat_minor": 2
}
